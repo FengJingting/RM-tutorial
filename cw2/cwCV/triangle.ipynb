{
 "cells": [
  {
   "cell_type": "code",
   "execution_count": 2,
   "metadata": {},
   "outputs": [],
   "source": [
    "import numpy as np\n",
    "import cv2\n",
    "\n",
    "img = cv2.imread('demo.jpg')\n",
    "color = 'purple'\n",
    "\n",
    "# HSV颜色区间\n",
    "color_dist = {'red': {'Lower': np.array([0, 60, 60]), 'Upper': np.array([6, 255, 255])},\n",
    "              'blue': {'Lower': np.array([100, 80, 46]), 'Upper': np.array([124, 255, 255])},\n",
    "              'green': {'Lower': np.array([35, 43, 35]), 'Upper': np.array([90, 255, 255])},\n",
    "              'purple':{'Lower': np.array([125, 43, 46]), 'Upper': np.array([155, 255, 255])},\n",
    "              }\n",
    "\n",
    "gs_img = cv2.GaussianBlur(img, (5, 5), 0)   # 高斯模糊\n",
    "hsv = cv2.cvtColor(gs_img, cv2.COLOR_BGR2HSV)                 # 转化成HSV图像\n",
    "erode_hsv = cv2.erode(hsv, None, iterations=2)                  # 腐蚀 粗的变细\n",
    "inRange_hsv = cv2.inRange(erode_hsv, color_dist[color]['Lower'], color_dist[color]['Upper'])\n",
    "cnts = cv2.findContours(inRange_hsv.copy(), cv2.RETR_EXTERNAL, cv2.CHAIN_APPROX_SIMPLE)[-2]\n",
    "c = max(cnts, key=cv2.contourArea)\n",
    "rect = cv2.minAreaRect(c) # 最小面积矩形\n",
    "box = cv2.boxPoints(rect) # 获取该矩形的四个顶点坐标\n",
    "\n",
    "# 画出图像的轮廓(目标图像，轮廓组，为负数画全部轮廓，颜色，线宽)\n",
    "cv2.drawContours(img, [np.int0(box)], -1, (0, 255, 255), 2) \n",
    "cv2.imshow('img', img)\n",
    "cv2.waitKey(1000)\n",
    "cv2.destroyWindow('img')"
   ]
  }
 ],
 "metadata": {
  "kernelspec": {
   "display_name": "Python 3.7.1 ('base')",
   "language": "python",
   "name": "python3"
  },
  "language_info": {
   "codemirror_mode": {
    "name": "ipython",
    "version": 3
   },
   "file_extension": ".py",
   "mimetype": "text/x-python",
   "name": "python",
   "nbconvert_exporter": "python",
   "pygments_lexer": "ipython3",
   "version": "3.7.1"
  },
  "orig_nbformat": 4,
  "vscode": {
   "interpreter": {
    "hash": "91bb753b057673435fb8d6f6a083e6c818364728098c7ae050ca3a25357dd754"
   }
  }
 },
 "nbformat": 4,
 "nbformat_minor": 2
}
