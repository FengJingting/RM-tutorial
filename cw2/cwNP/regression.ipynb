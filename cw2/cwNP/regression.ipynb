{
 "cells": [
  {
   "cell_type": "code",
   "execution_count": 6,
   "metadata": {},
   "outputs": [],
   "source": [
    "# read file  x_1,x_2,x_3,y\n",
    "# y= ax_1+bx_2+cx_3+d+random\n",
    "\n",
    "import csv\n",
    "import numpy as np\n",
    "\n",
    "data = [] # store x1,x2,x3\n",
    "y = []\n",
    "\n",
    "with open('data.csv', encoding=\"utf-8\") as f:\n",
    "    reader = csv.reader(f)\n",
    "    for i in reader:\n",
    "        i = np.array(i,dtype=float)\n",
    "        data.append(i[:3])\n",
    "        y.append(i[3])"
   ]
  },
  {
   "cell_type": "code",
   "execution_count": 3,
   "metadata": {},
   "outputs": [
    {
     "name": "stdout",
     "output_type": "stream",
     "text": [
      "0.9998426433677192\n",
      "0.9995828242747148\n",
      "[0.06495488 0.40945555 0.17860522]\n",
      "0.6341749179692571\n"
     ]
    }
   ],
   "source": [
    "from sklearn.model_selection import train_test_split\n",
    "from sklearn.linear_model import LinearRegression\n",
    "\n",
    "X_train,X_test,y_train,y_test = train_test_split(data,y,random_state=42)\n",
    "\n",
    "lr = LinearRegression().fit(X_train, y_train)  \n",
    "print(lr.score(X_train,y_train))  # 0.9998426433677192\n",
    "print(lr.score(X_test, y_test))   # 0.9995828242747148\n",
    "print(lr.coef_)  # [0.06495488 0.40945555 0.17860522]\n",
    "print(lr.intercept_) # 0.6341749179692571\n",
    "\n",
    "''' \n",
    "result\n",
    "y = 0.06495488*x_1 + 0.40945555*x_2 + 0.17860522*x_3 + 0.6341749179692571\n",
    "'''"
   ]
  }
 ],
 "metadata": {
  "kernelspec": {
   "display_name": "Python 3.7.1 ('base')",
   "language": "python",
   "name": "python3"
  },
  "language_info": {
   "codemirror_mode": {
    "name": "ipython",
    "version": 3
   },
   "file_extension": ".py",
   "mimetype": "text/x-python",
   "name": "python",
   "nbconvert_exporter": "python",
   "pygments_lexer": "ipython3",
   "version": "3.7.1"
  },
  "orig_nbformat": 4,
  "vscode": {
   "interpreter": {
    "hash": "91bb753b057673435fb8d6f6a083e6c818364728098c7ae050ca3a25357dd754"
   }
  }
 },
 "nbformat": 4,
 "nbformat_minor": 2
}
