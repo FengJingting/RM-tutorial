{
 "cells": [
  {
   "cell_type": "code",
   "execution_count": 8,
   "metadata": {},
   "outputs": [
    {
     "name": "stdout",
     "output_type": "stream",
     "text": [
      "[array([ 915.67362429, 1411.87878788]), array([915.67362429, 636.12121212]), array([1644.32637571,  636.12121212]), array([1644.32637571, 1411.87878788])]\n"
     ]
    }
   ],
   "source": [
    "%matplotlib inline\n",
    "import numpy as np\n",
    "import matplotlib.pyplot as plt\n",
    "import cv2 as cv\n",
    "'''\n",
    "传感器 1/2.7”CMOS  \n",
    "传感器尺寸 w*h=5.27mm*3.96mm\n",
    "焦距 6mm\n",
    "分辨率 1280*1024\n",
    "'''\n",
    "SENSOR_W = 5.27\n",
    "SENSOR_H = 3.96\n",
    "F = 6\n",
    "RESOLUTION_W = 1280\n",
    "RESOLUTION_H = 1024\n",
    "\n",
    "# 内参矩阵相关参数\n",
    "u_0 = RESOLUTION_W/2\n",
    "v_0 = RESOLUTION_H/2\n",
    "dX = SENSOR_W/RESOLUTION_W\n",
    "dY = SENSOR_H/RESOLUTION_H\n",
    "f_u = F/dX\n",
    "f_v = F/dY\n",
    "\n",
    "# 内参矩阵\n",
    "Intrinsic_matrix = [[f_u,0,u_0,0],\n",
    "[0,f_v,v_0,0],\n",
    "[0,0,1,0]]\n",
    "\n",
    "# 世界坐标\n",
    "coordinate_3D = np.array([[-0.25,0.25,2,1],[-0.25,-0.25,2,1],[0.25,-0.25,2,1],[0.25,0.25,2,1]])\n",
    "coordinate_2D = []\n",
    "x = []\n",
    "y = []\n",
    "for b in coordinate_3D:\n",
    "    a = np.matmul(Intrinsic_matrix,b)\n",
    "    x.append(a[0])\n",
    "    y.append(a[1])\n",
    "    coordinate_2D.append(a[:2])\n",
    "\n",
    "# 得出结果相对坐标\n",
    "print(coordinate_2D)\n"
   ]
  },
  {
   "cell_type": "code",
   "execution_count": 9,
   "metadata": {},
   "outputs": [
    {
     "data": {
      "image/png": "[encoded data removed]",
      "text/plain": [
       "<Figure size 432x288 with 1 Axes>"
      ]
     },
     "metadata": {
      "needs_background": "light"
     },
     "output_type": "display_data"
    }
   ],
   "source": [
    "# 绘制图形\n",
    "a = x\n",
    "b = y\n",
    "\n",
    "plt.subplot(221)\n",
    "plt.plot(a, b, 'o')\n",
    "plt.fill(a, b, 'r')\n",
    "for index, item in enumerate(zip(a, b), 1):\n",
    "    plt.text(item[0], item[1], index)\n",
    "plt.show()\n"
   ]
  }
 ],
 "metadata": {
  "kernelspec": {
   "display_name": "Python 3.7.1 ('base')",
   "language": "python",
   "name": "python3"
  },
  "language_info": {
   "codemirror_mode": {
    "name": "ipython",
    "version": 3
   },
   "file_extension": ".py",
   "mimetype": "text/x-python",
   "name": "python",
   "nbconvert_exporter": "python",
   "pygments_lexer": "ipython3",
   "version": "3.7.1"
  },
  "orig_nbformat": 4,
  "vscode": {
   "interpreter": {
    "hash": "91bb753b057673435fb8d6f6a083e6c818364728098c7ae050ca3a25357dd754"
   }
  }
 },
 "nbformat": 4,
 "nbformat_minor": 2
}
